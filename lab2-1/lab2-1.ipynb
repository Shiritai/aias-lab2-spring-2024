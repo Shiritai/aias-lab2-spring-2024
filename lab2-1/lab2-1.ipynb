{
 "cells": [
  {
   "cell_type": "markdown",
   "metadata": {},
   "source": [
    "### Lab 1-1. Converting a PyTorch model into an ONNX model\n"
   ]
  },
  {
   "cell_type": "markdown",
   "metadata": {},
   "source": [
    "<!-- \n",
    "!pip install ipykernel \n",
    "!pip install tensorflow \n",
    "!pip install onnxruntime\n",
    "!pip install -U tf2onnx\n",
    "!pip install torch torchvision torchaudio tensorboard\n",
    "!pip install transformers \n",
    "!pip install torchinfo\n",
    "!pip install netron\n",
    "!pip install onnxmltools\n",
    "!pip install sclblonnx  -->\n",
    "\n"
   ]
  },
  {
   "cell_type": "markdown",
   "metadata": {},
   "source": [
    "A simple example in PyTorch is available below. This simple example shows how to take a pre-trained PyTorch model (a weights object and network class object) and convert it to ONNX format (that contains the weights and net structur"
   ]
  },
  {
   "cell_type": "code",
   "execution_count": 3,
   "metadata": {},
   "outputs": [
    {
     "name": "stdout",
     "output_type": "stream",
     "text": [
      "python_version=3.9.18\n",
      "tensorflow_version=2.12.0\n"
     ]
    }
   ],
   "source": [
    "from platform import python_version \n",
    "print(\"python_version=\" + python_version())\n",
    "\n",
    "import tensorflow as tf\n",
    "print(\"tensorflow_version=\" + tf.__version__)"
   ]
  },
  {
   "cell_type": "code",
   "execution_count": 4,
   "metadata": {},
   "outputs": [
    {
     "name": "stderr",
     "output_type": "stream",
     "text": [
      "Downloading: \"https://download.pytorch.org/models/alexnet-owt-7be5be79.pth\" to /home/weifen/.cache/torch/hub/checkpoints/alexnet-owt-7be5be79.pth\n",
      "100%|██████████| 233M/233M [00:16<00:00, 14.9MB/s] \n"
     ]
    },
    {
     "name": "stdout",
     "output_type": "stream",
     "text": [
      "Exported graph: graph(%actual_input_1 : Float(10, 3, 224, 224, strides=[150528, 50176, 224, 1], requires_grad=0, device=cpu),\n",
      "      %learned_0 : Float(64, 3, 11, 11, strides=[363, 121, 11, 1], requires_grad=1, device=cpu),\n",
      "      %learned_1 : Float(64, strides=[1], requires_grad=1, device=cpu),\n",
      "      %learned_2 : Float(192, 64, 5, 5, strides=[1600, 25, 5, 1], requires_grad=1, device=cpu),\n",
      "      %learned_3 : Float(192, strides=[1], requires_grad=1, device=cpu),\n",
      "      %learned_4 : Float(384, 192, 3, 3, strides=[1728, 9, 3, 1], requires_grad=1, device=cpu),\n",
      "      %learned_5 : Float(384, strides=[1], requires_grad=1, device=cpu),\n",
      "      %learned_6 : Float(256, 384, 3, 3, strides=[3456, 9, 3, 1], requires_grad=1, device=cpu),\n",
      "      %learned_7 : Float(256, strides=[1], requires_grad=1, device=cpu),\n",
      "      %learned_8 : Float(256, 256, 3, 3, strides=[2304, 9, 3, 1], requires_grad=1, device=cpu),\n",
      "      %learned_9 : Float(256, strides=[1], requires_grad=1, device=cpu),\n",
      "      %learned_10 : Float(4096, 9216, strides=[9216, 1], requires_grad=1, device=cpu),\n",
      "      %learned_11 : Float(4096, strides=[1], requires_grad=1, device=cpu),\n",
      "      %learned_12 : Float(4096, 4096, strides=[4096, 1], requires_grad=1, device=cpu),\n",
      "      %learned_13 : Float(4096, strides=[1], requires_grad=1, device=cpu),\n",
      "      %learned_14 : Float(1000, 4096, strides=[4096, 1], requires_grad=1, device=cpu),\n",
      "      %learned_15 : Float(1000, strides=[1], requires_grad=1, device=cpu)):\n",
      "  %/features/features.0/Conv_output_0 : Float(10, 64, 55, 55, strides=[193600, 3025, 55, 1], requires_grad=0, device=cpu) = onnx::Conv[dilations=[1, 1], group=1, kernel_shape=[11, 11], pads=[2, 2, 2, 2], strides=[4, 4], onnx_name=\"/features/features.0/Conv\"](%actual_input_1, %learned_0, %learned_1), scope: torchvision.models.alexnet.AlexNet::/torch.nn.modules.container.Sequential::features/torch.nn.modules.conv.Conv2d::features.0 # /opt/conda/envs/tensorflow/lib/python3.9/site-packages/torch/nn/modules/conv.py:456:0\n",
      "  %/features/features.1/Relu_output_0 : Float(10, 64, 55, 55, strides=[193600, 3025, 55, 1], requires_grad=1, device=cpu) = onnx::Relu[onnx_name=\"/features/features.1/Relu\"](%/features/features.0/Conv_output_0), scope: torchvision.models.alexnet.AlexNet::/torch.nn.modules.container.Sequential::features/torch.nn.modules.activation.ReLU::features.1 # /opt/conda/envs/tensorflow/lib/python3.9/site-packages/torch/nn/functional.py:1471:0\n",
      "  %/features/features.2/MaxPool_output_0 : Float(10, 64, 27, 27, strides=[46656, 729, 27, 1], requires_grad=1, device=cpu) = onnx::MaxPool[ceil_mode=0, dilations=[1, 1], kernel_shape=[3, 3], pads=[0, 0, 0, 0], strides=[2, 2], onnx_name=\"/features/features.2/MaxPool\"](%/features/features.1/Relu_output_0), scope: torchvision.models.alexnet.AlexNet::/torch.nn.modules.container.Sequential::features/torch.nn.modules.pooling.MaxPool2d::features.2 # /opt/conda/envs/tensorflow/lib/python3.9/site-packages/torch/nn/functional.py:796:0\n",
      "  %/features/features.3/Conv_output_0 : Float(10, 192, 27, 27, strides=[139968, 729, 27, 1], requires_grad=0, device=cpu) = onnx::Conv[dilations=[1, 1], group=1, kernel_shape=[5, 5], pads=[2, 2, 2, 2], strides=[1, 1], onnx_name=\"/features/features.3/Conv\"](%/features/features.2/MaxPool_output_0, %learned_2, %learned_3), scope: torchvision.models.alexnet.AlexNet::/torch.nn.modules.container.Sequential::features/torch.nn.modules.conv.Conv2d::features.3 # /opt/conda/envs/tensorflow/lib/python3.9/site-packages/torch/nn/modules/conv.py:456:0\n",
      "  %/features/features.4/Relu_output_0 : Float(10, 192, 27, 27, strides=[139968, 729, 27, 1], requires_grad=1, device=cpu) = onnx::Relu[onnx_name=\"/features/features.4/Relu\"](%/features/features.3/Conv_output_0), scope: torchvision.models.alexnet.AlexNet::/torch.nn.modules.container.Sequential::features/torch.nn.modules.activation.ReLU::features.4 # /opt/conda/envs/tensorflow/lib/python3.9/site-packages/torch/nn/functional.py:1471:0\n",
      "  %/features/features.5/MaxPool_output_0 : Float(10, 192, 13, 13, strides=[32448, 169, 13, 1], requires_grad=1, device=cpu) = onnx::MaxPool[ceil_mode=0, dilations=[1, 1], kernel_shape=[3, 3], pads=[0, 0, 0, 0], strides=[2, 2], onnx_name=\"/features/features.5/MaxPool\"](%/features/features.4/Relu_output_0), scope: torchvision.models.alexnet.AlexNet::/torch.nn.modules.container.Sequential::features/torch.nn.modules.pooling.MaxPool2d::features.5 # /opt/conda/envs/tensorflow/lib/python3.9/site-packages/torch/nn/functional.py:796:0\n",
      "  %/features/features.6/Conv_output_0 : Float(10, 384, 13, 13, strides=[64896, 169, 13, 1], requires_grad=0, device=cpu) = onnx::Conv[dilations=[1, 1], group=1, kernel_shape=[3, 3], pads=[1, 1, 1, 1], strides=[1, 1], onnx_name=\"/features/features.6/Conv\"](%/features/features.5/MaxPool_output_0, %learned_4, %learned_5), scope: torchvision.models.alexnet.AlexNet::/torch.nn.modules.container.Sequential::features/torch.nn.modules.conv.Conv2d::features.6 # /opt/conda/envs/tensorflow/lib/python3.9/site-packages/torch/nn/modules/conv.py:456:0\n",
      "  %/features/features.7/Relu_output_0 : Float(10, 384, 13, 13, strides=[64896, 169, 13, 1], requires_grad=1, device=cpu) = onnx::Relu[onnx_name=\"/features/features.7/Relu\"](%/features/features.6/Conv_output_0), scope: torchvision.models.alexnet.AlexNet::/torch.nn.modules.container.Sequential::features/torch.nn.modules.activation.ReLU::features.7 # /opt/conda/envs/tensorflow/lib/python3.9/site-packages/torch/nn/functional.py:1471:0\n",
      "  %/features/features.8/Conv_output_0 : Float(10, 256, 13, 13, strides=[43264, 169, 13, 1], requires_grad=0, device=cpu) = onnx::Conv[dilations=[1, 1], group=1, kernel_shape=[3, 3], pads=[1, 1, 1, 1], strides=[1, 1], onnx_name=\"/features/features.8/Conv\"](%/features/features.7/Relu_output_0, %learned_6, %learned_7), scope: torchvision.models.alexnet.AlexNet::/torch.nn.modules.container.Sequential::features/torch.nn.modules.conv.Conv2d::features.8 # /opt/conda/envs/tensorflow/lib/python3.9/site-packages/torch/nn/modules/conv.py:456:0\n",
      "  %/features/features.9/Relu_output_0 : Float(10, 256, 13, 13, strides=[43264, 169, 13, 1], requires_grad=1, device=cpu) = onnx::Relu[onnx_name=\"/features/features.9/Relu\"](%/features/features.8/Conv_output_0), scope: torchvision.models.alexnet.AlexNet::/torch.nn.modules.container.Sequential::features/torch.nn.modules.activation.ReLU::features.9 # /opt/conda/envs/tensorflow/lib/python3.9/site-packages/torch/nn/functional.py:1471:0\n",
      "  %/features/features.10/Conv_output_0 : Float(10, 256, 13, 13, strides=[43264, 169, 13, 1], requires_grad=0, device=cpu) = onnx::Conv[dilations=[1, 1], group=1, kernel_shape=[3, 3], pads=[1, 1, 1, 1], strides=[1, 1], onnx_name=\"/features/features.10/Conv\"](%/features/features.9/Relu_output_0, %learned_8, %learned_9), scope: torchvision.models.alexnet.AlexNet::/torch.nn.modules.container.Sequential::features/torch.nn.modules.conv.Conv2d::features.10 # /opt/conda/envs/tensorflow/lib/python3.9/site-packages/torch/nn/modules/conv.py:456:0\n",
      "  %/features/features.11/Relu_output_0 : Float(10, 256, 13, 13, strides=[43264, 169, 13, 1], requires_grad=1, device=cpu) = onnx::Relu[onnx_name=\"/features/features.11/Relu\"](%/features/features.10/Conv_output_0), scope: torchvision.models.alexnet.AlexNet::/torch.nn.modules.container.Sequential::features/torch.nn.modules.activation.ReLU::features.11 # /opt/conda/envs/tensorflow/lib/python3.9/site-packages/torch/nn/functional.py:1471:0\n",
      "  %/features/features.12/MaxPool_output_0 : Float(10, 256, 6, 6, strides=[9216, 36, 6, 1], requires_grad=1, device=cpu) = onnx::MaxPool[ceil_mode=0, dilations=[1, 1], kernel_shape=[3, 3], pads=[0, 0, 0, 0], strides=[2, 2], onnx_name=\"/features/features.12/MaxPool\"](%/features/features.11/Relu_output_0), scope: torchvision.models.alexnet.AlexNet::/torch.nn.modules.container.Sequential::features/torch.nn.modules.pooling.MaxPool2d::features.12 # /opt/conda/envs/tensorflow/lib/python3.9/site-packages/torch/nn/functional.py:796:0\n",
      "  %/avgpool/AveragePool_output_0 : Float(10, 256, 6, 6, strides=[9216, 36, 6, 1], requires_grad=1, device=cpu) = onnx::AveragePool[kernel_shape=[1, 1], strides=[1, 1], onnx_name=\"/avgpool/AveragePool\"](%/features/features.12/MaxPool_output_0), scope: torchvision.models.alexnet.AlexNet::/torch.nn.modules.pooling.AdaptiveAvgPool2d::avgpool # /opt/conda/envs/tensorflow/lib/python3.9/site-packages/torch/nn/functional.py:1233:0\n",
      "  %/Flatten_output_0 : Float(10, 9216, strides=[9216, 1], requires_grad=1, device=cpu) = onnx::Flatten[axis=1, onnx_name=\"/Flatten\"](%/avgpool/AveragePool_output_0), scope: torchvision.models.alexnet.AlexNet:: # /opt/conda/envs/tensorflow/lib/python3.9/site-packages/torchvision/models/alexnet.py:50:0\n",
      "  %/classifier/classifier.1/Gemm_output_0 : Float(10, 4096, strides=[4096, 1], requires_grad=1, device=cpu) = onnx::Gemm[alpha=1., beta=1., transB=1, onnx_name=\"/classifier/classifier.1/Gemm\"](%/Flatten_output_0, %learned_10, %learned_11), scope: torchvision.models.alexnet.AlexNet::/torch.nn.modules.container.Sequential::classifier/torch.nn.modules.linear.Linear::classifier.1 # /opt/conda/envs/tensorflow/lib/python3.9/site-packages/torch/nn/modules/linear.py:116:0\n",
      "  %/classifier/classifier.2/Relu_output_0 : Float(10, 4096, strides=[4096, 1], requires_grad=1, device=cpu) = onnx::Relu[onnx_name=\"/classifier/classifier.2/Relu\"](%/classifier/classifier.1/Gemm_output_0), scope: torchvision.models.alexnet.AlexNet::/torch.nn.modules.container.Sequential::classifier/torch.nn.modules.activation.ReLU::classifier.2 # /opt/conda/envs/tensorflow/lib/python3.9/site-packages/torch/nn/functional.py:1471:0\n",
      "  %/classifier/classifier.4/Gemm_output_0 : Float(10, 4096, strides=[4096, 1], requires_grad=1, device=cpu) = onnx::Gemm[alpha=1., beta=1., transB=1, onnx_name=\"/classifier/classifier.4/Gemm\"](%/classifier/classifier.2/Relu_output_0, %learned_12, %learned_13), scope: torchvision.models.alexnet.AlexNet::/torch.nn.modules.container.Sequential::classifier/torch.nn.modules.linear.Linear::classifier.4 # /opt/conda/envs/tensorflow/lib/python3.9/site-packages/torch/nn/modules/linear.py:116:0\n",
      "  %/classifier/classifier.5/Relu_output_0 : Float(10, 4096, strides=[4096, 1], requires_grad=1, device=cpu) = onnx::Relu[onnx_name=\"/classifier/classifier.5/Relu\"](%/classifier/classifier.4/Gemm_output_0), scope: torchvision.models.alexnet.AlexNet::/torch.nn.modules.container.Sequential::classifier/torch.nn.modules.activation.ReLU::classifier.5 # /opt/conda/envs/tensorflow/lib/python3.9/site-packages/torch/nn/functional.py:1471:0\n",
      "  %output1 : Float(10, 1000, strides=[1000, 1], requires_grad=1, device=cpu) = onnx::Gemm[alpha=1., beta=1., transB=1, onnx_name=\"/classifier/classifier.6/Gemm\"](%/classifier/classifier.5/Relu_output_0, %learned_14, %learned_15), scope: torchvision.models.alexnet.AlexNet::/torch.nn.modules.container.Sequential::classifier/torch.nn.modules.linear.Linear::classifier.6 # /opt/conda/envs/tensorflow/lib/python3.9/site-packages/torch/nn/modules/linear.py:116:0\n",
      "  return (%output1)\n",
      "\n"
     ]
    }
   ],
   "source": [
    "import torch\n",
    "import torchvision.models as models\n",
    "\n",
    "# Use an existing model from Torchvision, note it \n",
    "# will download this if not already on your computer (might take time)\n",
    "model = models.alexnet(pretrained=True)\n",
    "\n",
    "# Create some sample input in the shape this model expects\n",
    "dummy_input = torch.randn(10, 3, 224, 224)\n",
    "\n",
    "# It's optional to label the input and output layers\n",
    "input_names = [ \"actual_input_1\" ] + [ \"learned_%d\" % i for i in range(16) ]\n",
    "output_names = [ \"output1\" ]\n",
    "\n",
    "# Use the exporter from torch to convert to onnx \n",
    "# model (that has the weights and net arch)\n",
    "torch.onnx.export(model, dummy_input, \"models/alexnet.onnx\", verbose=True, input_names=input_names, output_names=output_names)"
   ]
  },
  {
   "cell_type": "markdown",
   "metadata": {},
   "source": [
    "### Lab 1-2. Converting a Tensorflow model into an ONNX model"
   ]
  },
  {
   "cell_type": "markdown",
   "metadata": {},
   "source": [
    "Tensorflow uses several file formats to represent a model, such as checkpoint files, graph with weight(called frozen graph next) and saved_model, and it has APIs to generate these files. TensorFlow models (including keras and TFLite models) can be converted to ONNX using the Tensorflow-onnx tool. Tensorflow-onnx can accept all the three formats to represent a Tensorflow model, the format “saved_model” is typically the preference since it doesn’t require the user to specify input and output names of graph. Another format, “tflite”, is very popular as well."
   ]
  },
  {
   "cell_type": "code",
   "execution_count": 5,
   "metadata": {},
   "outputs": [
    {
     "name": "stderr",
     "output_type": "stream",
     "text": [
      "2024-02-12 18:30:49.349926: I tensorflow/core/common_runtime/process_util.cc:146] Creating new thread pool with default inter op setting: 2. Tune using inter_op_parallelism_threads for best performance.\n",
      "WARNING:absl:Found untraced functions such as _jit_compiled_convolution_op while saving (showing 1 of 1). These functions will not be directly callable after loading.\n"
     ]
    },
    {
     "name": "stdout",
     "output_type": "stream",
     "text": [
      "INFO:tensorflow:Assets written to: models/tf_cnn_models/assets\n"
     ]
    },
    {
     "name": "stderr",
     "output_type": "stream",
     "text": [
      "INFO:tensorflow:Assets written to: models/tf_cnn_models/assets\n"
     ]
    }
   ],
   "source": [
    "import tensorflow as tf\n",
    "from tensorflow.keras.layers import Conv2D, MaxPooling2D, Flatten, Dense\n",
    "import os\n",
    "\n",
    "def create_simple_cnn_model(input_shape=(224, 224, 3), num_classes=10):\n",
    "    model = tf.keras.Sequential([\n",
    "        Conv2D(32, (3, 3), activation='relu', input_shape=input_shape),\n",
    "        MaxPooling2D((2, 2)),\n",
    "        Flatten(),\n",
    "        Dense(128, activation='relu'),\n",
    "        Dense(num_classes, activation='softmax')\n",
    "    ])\n",
    "    return model\n",
    "\n",
    "directory = \"models/tf_cnn_models\"\n",
    "if not os.path.exists(directory):\n",
    "    os.makedirs(directory)\n",
    "\n",
    "# 創建你的CNN模型\n",
    "simple_cnn_model = create_simple_cnn_model()\n",
    "\n",
    "# 儲存模型為SavedModel格式\n",
    "tf.saved_model.save(simple_cnn_model, directory)\n"
   ]
  },
  {
   "cell_type": "code",
   "execution_count": 6,
   "metadata": {},
   "outputs": [
    {
     "name": "stdout",
     "output_type": "stream",
     "text": [
      "2024-02-12 18:30:55.921561: I tensorflow/core/platform/cpu_feature_guard.cc:182] This TensorFlow binary is optimized to use available CPU instructions in performance-critical operations.\n",
      "To enable the following instructions: SSE4.1 SSE4.2 AVX AVX2 FMA, in other operations, rebuild TensorFlow with the appropriate compiler flags.\n",
      "/opt/conda/envs/tensorflow/lib/python3.9/runpy.py:127: RuntimeWarning: 'tf2onnx.convert' found in sys.modules after import of package 'tf2onnx', but prior to execution of 'tf2onnx.convert'; this may result in unpredictable behaviour\n",
      "  warn(RuntimeWarning(msg))\n",
      "2024-02-12 18:30:57.498575: I tensorflow/core/common_runtime/process_util.cc:146] Creating new thread pool with default inter op setting: 2. Tune using inter_op_parallelism_threads for best performance.\n",
      "2024-02-12 18:30:57,499 - WARNING - '--tag' not specified for saved_model. Using --tag serve\n",
      "2024-02-12 18:30:58,536 - INFO - Signatures found in model: [serving_default].\n",
      "2024-02-12 18:30:58,536 - WARNING - '--signature_def' not specified, using first signature: serving_default\n",
      "2024-02-12 18:30:58,536 - INFO - Output names: ['dense_1']\n",
      "2024-02-12 18:30:58.537500: I tensorflow/core/grappler/devices.cc:75] Number of eligible GPUs (core count >= 8, compute capability >= 0.0): 0 (Note: TensorFlow was not compiled with CUDA or ROCm support)\n",
      "2024-02-12 18:30:58.537705: I tensorflow/core/grappler/clusters/single_machine.cc:358] Starting new session\n",
      "2024-02-12 18:31:02.808033: I tensorflow/core/common_runtime/process_util.cc:146] Creating new thread pool with default inter op setting: 2. Tune using inter_op_parallelism_threads for best performance.\n",
      "2024-02-12 18:31:03.362815: I tensorflow/core/grappler/devices.cc:75] Number of eligible GPUs (core count >= 8, compute capability >= 0.0): 0 (Note: TensorFlow was not compiled with CUDA or ROCm support)\n",
      "2024-02-12 18:31:03.363057: I tensorflow/core/grappler/clusters/single_machine.cc:358] Starting new session\n",
      "2024-02-12 18:31:07,375 - INFO - Using tensorflow=2.12.0, onnx=1.13.1, tf2onnx=1.16.1/15c810\n",
      "2024-02-12 18:31:07,375 - INFO - Using opset <onnx, 15>\n",
      "2024-02-12 18:31:10,398 - INFO - Computed 0 values for constant folding\n",
      "2024-02-12 18:31:12,571 - INFO - Optimizing ONNX model\n",
      "2024-02-12 18:31:19,397 - INFO - After optimization: Cast -1 (1->0), Identity -2 (2->0), Transpose -2 (4->2)\n",
      "2024-02-12 18:31:20,491 - INFO - \n",
      "2024-02-12 18:31:20,491 - INFO - Successfully converted TensorFlow model models/tf_cnn_models to ONNX\n",
      "2024-02-12 18:31:20,491 - INFO - Model inputs: ['conv2d_input']\n",
      "2024-02-12 18:31:20,491 - INFO - Model outputs: ['dense_1']\n",
      "2024-02-12 18:31:20,491 - INFO - ONNX model is saved at models/tf2onnx_cnn_model.onnx\n"
     ]
    }
   ],
   "source": [
    "!python3 -m tf2onnx.convert --saved-model models/tf_cnn_models --output models/tf2onnx_cnn_model.onnx"
   ]
  },
  {
   "cell_type": "markdown",
   "metadata": {},
   "source": [
    "Load the converted ONNX model using onnxruntime.\n",
    "\n"
   ]
  },
  {
   "cell_type": "code",
   "execution_count": 7,
   "metadata": {},
   "outputs": [],
   "source": [
    "import onnxruntime as ort\n",
    "onnx_session = ort.InferenceSession(\"models/tf2onnx_cnn_model.onnx\")"
   ]
  },
  {
   "cell_type": "markdown",
   "metadata": {},
   "source": [
    "Prepare Test Data:\n",
    "\n"
   ]
  },
  {
   "cell_type": "code",
   "execution_count": 8,
   "metadata": {},
   "outputs": [],
   "source": [
    "import numpy as np\n",
    "test_input = np.random.rand(1, 224, 224, 3).astype(np.float32)"
   ]
  },
  {
   "cell_type": "markdown",
   "metadata": {},
   "source": [
    "Inference with ONNX Model:\n",
    "\n"
   ]
  },
  {
   "cell_type": "code",
   "execution_count": 9,
   "metadata": {},
   "outputs": [],
   "source": [
    "onnx_input_name = onnx_session.get_inputs()[0].name\n",
    "onnx_output = onnx_session.run(None, {onnx_input_name: test_input})"
   ]
  },
  {
   "cell_type": "markdown",
   "metadata": {},
   "source": [
    "Inference with TensorFlow Model:\n",
    "\n"
   ]
  },
  {
   "cell_type": "code",
   "execution_count": 10,
   "metadata": {},
   "outputs": [
    {
     "name": "stdout",
     "output_type": "stream",
     "text": [
      "1/1 [==============================] - 0s 178ms/step\n"
     ]
    }
   ],
   "source": [
    "tf_output = simple_cnn_model.predict(test_input)"
   ]
  },
  {
   "cell_type": "markdown",
   "metadata": {},
   "source": [
    "Compare outputs from both models to check for consistency:\n",
    "\n"
   ]
  },
  {
   "cell_type": "code",
   "execution_count": 12,
   "metadata": {},
   "outputs": [
    {
     "name": "stdout",
     "output_type": "stream",
     "text": [
      "Model outputs are consistent!\n"
     ]
    }
   ],
   "source": [
    "if np.allclose(tf_output, onnx_output[0], rtol=1e-3, atol=1e-5):\n",
    "    print(\"Model outputs are consistent!\")\n",
    "else:\n",
    "    print(\"Model outputs are inconsistent!\")"
   ]
  },
  {
   "cell_type": "code",
   "execution_count": 13,
   "metadata": {},
   "outputs": [
    {
     "data": {
      "text/plain": [
       "array([[0.09093276, 0.07652456, 0.0647765 , 0.08905411, 0.07794573,\n",
       "        0.09307253, 0.09439282, 0.13438646, 0.18836619, 0.09054824]],\n",
       "      dtype=float32)"
      ]
     },
     "execution_count": 13,
     "metadata": {},
     "output_type": "execute_result"
    }
   ],
   "source": [
    "tf_output"
   ]
  },
  {
   "cell_type": "code",
   "execution_count": 14,
   "metadata": {},
   "outputs": [
    {
     "data": {
      "text/plain": [
       "array([[0.0909328 , 0.0765245 , 0.06477651, 0.08905414, 0.07794575,\n",
       "        0.09307254, 0.09439281, 0.13438638, 0.18836643, 0.09054821]],\n",
       "      dtype=float32)"
      ]
     },
     "execution_count": 14,
     "metadata": {},
     "output_type": "execute_result"
    }
   ],
   "source": [
    "onnx_output[0]"
   ]
  },
  {
   "cell_type": "markdown",
   "metadata": {},
   "source": [
    "### Lab 2-1-3. Model Analysis in Pytorch\n"
   ]
  },
  {
   "cell_type": "markdown",
   "metadata": {},
   "source": [
    "In PyTorch, AlexNet is a popular deep learning architecture commonly used for image recognition and classification. This model demonstrates the typical architecture and workload of a deep learning model."
   ]
  },
  {
   "cell_type": "code",
   "execution_count": 15,
   "metadata": {},
   "outputs": [
    {
     "name": "stderr",
     "output_type": "stream",
     "text": [
      "/opt/conda/envs/tensorflow/lib/python3.9/site-packages/torchvision/models/_utils.py:208: UserWarning: The parameter 'pretrained' is deprecated since 0.13 and may be removed in the future, please use 'weights' instead.\n",
      "  warnings.warn(\n",
      "/opt/conda/envs/tensorflow/lib/python3.9/site-packages/torchvision/models/_utils.py:223: UserWarning: Arguments other than a weight enum or `None` for 'weights' are deprecated since 0.13 and may be removed in the future. The current behavior is equivalent to passing `weights=AlexNet_Weights.IMAGENET1K_V1`. You can also use `weights=AlexNet_Weights.DEFAULT` to get the most up-to-date weights.\n",
      "  warnings.warn(msg)\n"
     ]
    },
    {
     "name": "stdout",
     "output_type": "stream",
     "text": [
      "AlexNet(\n",
      "  (features): Sequential(\n",
      "    (0): Conv2d(3, 64, kernel_size=(11, 11), stride=(4, 4), padding=(2, 2))\n",
      "    (1): ReLU(inplace=True)\n",
      "    (2): MaxPool2d(kernel_size=3, stride=2, padding=0, dilation=1, ceil_mode=False)\n",
      "    (3): Conv2d(64, 192, kernel_size=(5, 5), stride=(1, 1), padding=(2, 2))\n",
      "    (4): ReLU(inplace=True)\n",
      "    (5): MaxPool2d(kernel_size=3, stride=2, padding=0, dilation=1, ceil_mode=False)\n",
      "    (6): Conv2d(192, 384, kernel_size=(3, 3), stride=(1, 1), padding=(1, 1))\n",
      "    (7): ReLU(inplace=True)\n",
      "    (8): Conv2d(384, 256, kernel_size=(3, 3), stride=(1, 1), padding=(1, 1))\n",
      "    (9): ReLU(inplace=True)\n",
      "    (10): Conv2d(256, 256, kernel_size=(3, 3), stride=(1, 1), padding=(1, 1))\n",
      "    (11): ReLU(inplace=True)\n",
      "    (12): MaxPool2d(kernel_size=3, stride=2, padding=0, dilation=1, ceil_mode=False)\n",
      "  )\n",
      "  (avgpool): AdaptiveAvgPool2d(output_size=(6, 6))\n",
      "  (classifier): Sequential(\n",
      "    (0): Dropout(p=0.5, inplace=False)\n",
      "    (1): Linear(in_features=9216, out_features=4096, bias=True)\n",
      "    (2): ReLU(inplace=True)\n",
      "    (3): Dropout(p=0.5, inplace=False)\n",
      "    (4): Linear(in_features=4096, out_features=4096, bias=True)\n",
      "    (5): ReLU(inplace=True)\n",
      "    (6): Linear(in_features=4096, out_features=1000, bias=True)\n",
      "  )\n",
      ")\n"
     ]
    }
   ],
   "source": [
    "import torchvision.models as models\n",
    "\n",
    "# Using an existing model from Torchvision, it will download the model if not already on your computer\n",
    "model = models.alexnet(pretrained=True)\n",
    "print(model)"
   ]
  },
  {
   "cell_type": "markdown",
   "metadata": {},
   "source": [
    "#### Get Model Parameter Size"
   ]
  },
  {
   "cell_type": "code",
   "execution_count": 16,
   "metadata": {},
   "outputs": [
    {
     "name": "stdout",
     "output_type": "stream",
     "text": [
      "Total number of parameters:  61100840\n"
     ]
    }
   ],
   "source": [
    "# Calculating the total number of parameters in the model\n",
    "total_params = sum(p.numel() for p in model.parameters())\n",
    "print(\"Total number of parameters: \", total_params)"
   ]
  },
  {
   "cell_type": "markdown",
   "metadata": {},
   "source": [
    "#### Get Memory Requirement"
   ]
  },
  {
   "cell_type": "code",
   "execution_count": 17,
   "metadata": {},
   "outputs": [
    {
     "name": "stdout",
     "output_type": "stream",
     "text": [
      "Total memory for parameters:  244403360\n"
     ]
    }
   ],
   "source": [
    "# Calculating the size of the model's parameters in bytes\n",
    "param_size = sum(p.numel() * p.element_size() for p in model.parameters())\n",
    "print(\"Total memory for parameters: \", param_size)"
   ]
  },
  {
   "cell_type": "markdown",
   "metadata": {},
   "source": [
    "#### Print Pytorch Summary"
   ]
  },
  {
   "cell_type": "code",
   "execution_count": 18,
   "metadata": {},
   "outputs": [
    {
     "name": "stdout",
     "output_type": "stream",
     "text": [
      "----------------------------------------------------------------\n",
      "        Layer (type)               Output Shape         Param #\n",
      "================================================================\n",
      "            Conv2d-1           [-1, 64, 55, 55]          23,296\n",
      "              ReLU-2           [-1, 64, 55, 55]               0\n",
      "         MaxPool2d-3           [-1, 64, 27, 27]               0\n",
      "            Conv2d-4          [-1, 192, 27, 27]         307,392\n",
      "              ReLU-5          [-1, 192, 27, 27]               0\n",
      "         MaxPool2d-6          [-1, 192, 13, 13]               0\n",
      "            Conv2d-7          [-1, 384, 13, 13]         663,936\n",
      "              ReLU-8          [-1, 384, 13, 13]               0\n",
      "            Conv2d-9          [-1, 256, 13, 13]         884,992\n",
      "             ReLU-10          [-1, 256, 13, 13]               0\n",
      "           Conv2d-11          [-1, 256, 13, 13]         590,080\n",
      "             ReLU-12          [-1, 256, 13, 13]               0\n",
      "        MaxPool2d-13            [-1, 256, 6, 6]               0\n",
      "AdaptiveAvgPool2d-14            [-1, 256, 6, 6]               0\n",
      "          Dropout-15                 [-1, 9216]               0\n",
      "           Linear-16                 [-1, 4096]      37,752,832\n",
      "             ReLU-17                 [-1, 4096]               0\n",
      "          Dropout-18                 [-1, 4096]               0\n",
      "           Linear-19                 [-1, 4096]      16,781,312\n",
      "             ReLU-20                 [-1, 4096]               0\n",
      "           Linear-21                 [-1, 1000]       4,097,000\n",
      "================================================================\n",
      "Total params: 61,100,840\n",
      "Trainable params: 61,100,840\n",
      "Non-trainable params: 0\n",
      "----------------------------------------------------------------\n",
      "Input size (MB): 0.57\n",
      "Forward/backward pass size (MB): 8.38\n",
      "Params size (MB): 233.08\n",
      "Estimated Total Size (MB): 242.03\n",
      "----------------------------------------------------------------\n"
     ]
    }
   ],
   "source": [
    "from torchvision import models\n",
    "from torchsummary import summary\n",
    "\n",
    "model = models.alexnet(pretrained=True)\n",
    "summary(model, (3, 224, 224))"
   ]
  },
  {
   "cell_type": "markdown",
   "metadata": {},
   "source": [
    "#### Using torchInfo "
   ]
  },
  {
   "cell_type": "markdown",
   "metadata": {},
   "source": [
    "Using torchinfo.summary, we can get a lot of information by giving currently supported options as input for the argument col_names:"
   ]
  },
  {
   "cell_type": "code",
   "execution_count": 19,
   "metadata": {},
   "outputs": [
    {
     "data": {
      "text/plain": [
       "=====================================================================================================================================================================\n",
       "Layer (type:depth-idx)                   Input Shape               Output Shape              Param #                   Kernel Shape              Mult-Adds\n",
       "=====================================================================================================================================================================\n",
       "AlexNet                                  [1, 3, 224, 224]          [1, 1000]                 --                        --                        --\n",
       "├─Sequential: 1-1                        [1, 3, 224, 224]          [1, 256, 6, 6]            --                        --                        --\n",
       "│    └─Conv2d: 2-1                       [1, 3, 224, 224]          [1, 64, 55, 55]           23,296                    [11, 11]                  70,470,400\n",
       "│    └─ReLU: 2-2                         [1, 64, 55, 55]           [1, 64, 55, 55]           --                        --                        --\n",
       "│    └─MaxPool2d: 2-3                    [1, 64, 55, 55]           [1, 64, 27, 27]           --                        3                         --\n",
       "│    └─Conv2d: 2-4                       [1, 64, 27, 27]           [1, 192, 27, 27]          307,392                   [5, 5]                    224,088,768\n",
       "│    └─ReLU: 2-5                         [1, 192, 27, 27]          [1, 192, 27, 27]          --                        --                        --\n",
       "│    └─MaxPool2d: 2-6                    [1, 192, 27, 27]          [1, 192, 13, 13]          --                        3                         --\n",
       "│    └─Conv2d: 2-7                       [1, 192, 13, 13]          [1, 384, 13, 13]          663,936                   [3, 3]                    112,205,184\n",
       "│    └─ReLU: 2-8                         [1, 384, 13, 13]          [1, 384, 13, 13]          --                        --                        --\n",
       "│    └─Conv2d: 2-9                       [1, 384, 13, 13]          [1, 256, 13, 13]          884,992                   [3, 3]                    149,563,648\n",
       "│    └─ReLU: 2-10                        [1, 256, 13, 13]          [1, 256, 13, 13]          --                        --                        --\n",
       "│    └─Conv2d: 2-11                      [1, 256, 13, 13]          [1, 256, 13, 13]          590,080                   [3, 3]                    99,723,520\n",
       "│    └─ReLU: 2-12                        [1, 256, 13, 13]          [1, 256, 13, 13]          --                        --                        --\n",
       "│    └─MaxPool2d: 2-13                   [1, 256, 13, 13]          [1, 256, 6, 6]            --                        3                         --\n",
       "├─AdaptiveAvgPool2d: 1-2                 [1, 256, 6, 6]            [1, 256, 6, 6]            --                        --                        --\n",
       "├─Sequential: 1-3                        [1, 9216]                 [1, 1000]                 --                        --                        --\n",
       "│    └─Dropout: 2-14                     [1, 9216]                 [1, 9216]                 --                        --                        --\n",
       "│    └─Linear: 2-15                      [1, 9216]                 [1, 4096]                 37,752,832                --                        37,752,832\n",
       "│    └─ReLU: 2-16                        [1, 4096]                 [1, 4096]                 --                        --                        --\n",
       "│    └─Dropout: 2-17                     [1, 4096]                 [1, 4096]                 --                        --                        --\n",
       "│    └─Linear: 2-18                      [1, 4096]                 [1, 4096]                 16,781,312                --                        16,781,312\n",
       "│    └─ReLU: 2-19                        [1, 4096]                 [1, 4096]                 --                        --                        --\n",
       "│    └─Linear: 2-20                      [1, 4096]                 [1, 1000]                 4,097,000                 --                        4,097,000\n",
       "=====================================================================================================================================================================\n",
       "Total params: 61,100,840\n",
       "Trainable params: 61,100,840\n",
       "Non-trainable params: 0\n",
       "Total mult-adds (M): 714.68\n",
       "=====================================================================================================================================================================\n",
       "Input size (MB): 0.60\n",
       "Forward/backward pass size (MB): 3.95\n",
       "Params size (MB): 244.40\n",
       "Estimated Total Size (MB): 248.96\n",
       "====================================================================================================================================================================="
      ]
     },
     "execution_count": 19,
     "metadata": {},
     "output_type": "execute_result"
    }
   ],
   "source": [
    "import torchinfo\n",
    "torchinfo.summary(model, (3, 224, 224), batch_dim=0, col_names=(\"input_size\", \"output_size\", \"num_params\", \"kernel_size\", \"mult_adds\"), verbose=0)"
   ]
  },
  {
   "cell_type": "markdown",
   "metadata": {},
   "source": [
    "Consider a model structured as follows, with several branches where each branch takes a different input:"
   ]
  },
  {
   "cell_type": "code",
   "execution_count": 20,
   "metadata": {},
   "outputs": [],
   "source": [
    "import torchvision.models as models\n",
    "import torch\n",
    "\n",
    "class Model(torch.nn.Module):\n",
    "    def __init__(self):\n",
    "        super().__init__()\n",
    "        # Initialize three instances of pretrained AlexNet\n",
    "        self.alexnet1 = models.alexnet(pretrained=True)\n",
    "        self.alexnet2 = models.alexnet(pretrained=True)\n",
    "        self.alexnet3 = models.alexnet(pretrained=True)\n",
    "    \n",
    "    def forward(self, *x):\n",
    "        # Ensure that the input is a tuple of three tensors\n",
    "        if len(x) != 3:\n",
    "            raise ValueError(\"Expected three input tensors\")\n",
    "\n",
    "        # Pass each tensor through the corresponding AlexNet model\n",
    "        out1 = self.alexnet1(x[0])\n",
    "        out2 = self.alexnet2(x[1])\n",
    "        out3 = self.alexnet3(x[2])\n",
    "\n",
    "        # Concatenate the outputs along the 0th dimension\n",
    "        out = torch.cat([out1, out2, out3], dim=0)\n",
    "        return out"
   ]
  },
  {
   "cell_type": "code",
   "execution_count": 21,
   "metadata": {},
   "outputs": [
    {
     "data": {
      "text/plain": [
       "=====================================================================================================================================================================\n",
       "Layer (type:depth-idx)                   Input Shape               Output Shape              Param #                   Kernel Shape              Mult-Adds\n",
       "=====================================================================================================================================================================\n",
       "Model                                    [1, 3, 64, 64]            [3, 1000]                 --                        --                        --\n",
       "├─AlexNet: 1-1                           [1, 3, 64, 64]            [1, 1000]                 --                        --                        --\n",
       "│    └─Sequential: 2-1                   [1, 3, 64, 64]            [1, 256, 1, 1]            --                        --                        --\n",
       "│    │    └─Conv2d: 3-1                  [1, 3, 64, 64]            [1, 64, 15, 15]           23,296                    [11, 11]                  5,241,600\n",
       "│    │    └─ReLU: 3-2                    [1, 64, 15, 15]           [1, 64, 15, 15]           --                        --                        --\n",
       "│    │    └─MaxPool2d: 3-3               [1, 64, 15, 15]           [1, 64, 7, 7]             --                        3                         --\n",
       "│    │    └─Conv2d: 3-4                  [1, 64, 7, 7]             [1, 192, 7, 7]            307,392                   [5, 5]                    15,062,208\n",
       "│    │    └─ReLU: 3-5                    [1, 192, 7, 7]            [1, 192, 7, 7]            --                        --                        --\n",
       "│    │    └─MaxPool2d: 3-6               [1, 192, 7, 7]            [1, 192, 3, 3]            --                        3                         --\n",
       "│    │    └─Conv2d: 3-7                  [1, 192, 3, 3]            [1, 384, 3, 3]            663,936                   [3, 3]                    5,975,424\n",
       "│    │    └─ReLU: 3-8                    [1, 384, 3, 3]            [1, 384, 3, 3]            --                        --                        --\n",
       "│    │    └─Conv2d: 3-9                  [1, 384, 3, 3]            [1, 256, 3, 3]            884,992                   [3, 3]                    7,964,928\n",
       "│    │    └─ReLU: 3-10                   [1, 256, 3, 3]            [1, 256, 3, 3]            --                        --                        --\n",
       "│    │    └─Conv2d: 3-11                 [1, 256, 3, 3]            [1, 256, 3, 3]            590,080                   [3, 3]                    5,310,720\n",
       "│    │    └─ReLU: 3-12                   [1, 256, 3, 3]            [1, 256, 3, 3]            --                        --                        --\n",
       "│    │    └─MaxPool2d: 3-13              [1, 256, 3, 3]            [1, 256, 1, 1]            --                        3                         --\n",
       "│    └─AdaptiveAvgPool2d: 2-2            [1, 256, 1, 1]            [1, 256, 6, 6]            --                        --                        --\n",
       "│    └─Sequential: 2-3                   [1, 9216]                 [1, 1000]                 --                        --                        --\n",
       "│    │    └─Dropout: 3-14                [1, 9216]                 [1, 9216]                 --                        --                        --\n",
       "│    │    └─Linear: 3-15                 [1, 9216]                 [1, 4096]                 37,752,832                --                        37,752,832\n",
       "│    │    └─ReLU: 3-16                   [1, 4096]                 [1, 4096]                 --                        --                        --\n",
       "│    │    └─Dropout: 3-17                [1, 4096]                 [1, 4096]                 --                        --                        --\n",
       "│    │    └─Linear: 3-18                 [1, 4096]                 [1, 4096]                 16,781,312                --                        16,781,312\n",
       "│    │    └─ReLU: 3-19                   [1, 4096]                 [1, 4096]                 --                        --                        --\n",
       "│    │    └─Linear: 3-20                 [1, 4096]                 [1, 1000]                 4,097,000                 --                        4,097,000\n",
       "├─AlexNet: 1-2                           [1, 3, 64, 64]            [1, 1000]                 --                        --                        --\n",
       "│    └─Sequential: 2-4                   [1, 3, 64, 64]            [1, 256, 1, 1]            --                        --                        --\n",
       "│    │    └─Conv2d: 3-21                 [1, 3, 64, 64]            [1, 64, 15, 15]           23,296                    [11, 11]                  5,241,600\n",
       "│    │    └─ReLU: 3-22                   [1, 64, 15, 15]           [1, 64, 15, 15]           --                        --                        --\n",
       "│    │    └─MaxPool2d: 3-23              [1, 64, 15, 15]           [1, 64, 7, 7]             --                        3                         --\n",
       "│    │    └─Conv2d: 3-24                 [1, 64, 7, 7]             [1, 192, 7, 7]            307,392                   [5, 5]                    15,062,208\n",
       "│    │    └─ReLU: 3-25                   [1, 192, 7, 7]            [1, 192, 7, 7]            --                        --                        --\n",
       "│    │    └─MaxPool2d: 3-26              [1, 192, 7, 7]            [1, 192, 3, 3]            --                        3                         --\n",
       "│    │    └─Conv2d: 3-27                 [1, 192, 3, 3]            [1, 384, 3, 3]            663,936                   [3, 3]                    5,975,424\n",
       "│    │    └─ReLU: 3-28                   [1, 384, 3, 3]            [1, 384, 3, 3]            --                        --                        --\n",
       "│    │    └─Conv2d: 3-29                 [1, 384, 3, 3]            [1, 256, 3, 3]            884,992                   [3, 3]                    7,964,928\n",
       "│    │    └─ReLU: 3-30                   [1, 256, 3, 3]            [1, 256, 3, 3]            --                        --                        --\n",
       "│    │    └─Conv2d: 3-31                 [1, 256, 3, 3]            [1, 256, 3, 3]            590,080                   [3, 3]                    5,310,720\n",
       "│    │    └─ReLU: 3-32                   [1, 256, 3, 3]            [1, 256, 3, 3]            --                        --                        --\n",
       "│    │    └─MaxPool2d: 3-33              [1, 256, 3, 3]            [1, 256, 1, 1]            --                        3                         --\n",
       "│    └─AdaptiveAvgPool2d: 2-5            [1, 256, 1, 1]            [1, 256, 6, 6]            --                        --                        --\n",
       "│    └─Sequential: 2-6                   [1, 9216]                 [1, 1000]                 --                        --                        --\n",
       "│    │    └─Dropout: 3-34                [1, 9216]                 [1, 9216]                 --                        --                        --\n",
       "│    │    └─Linear: 3-35                 [1, 9216]                 [1, 4096]                 37,752,832                --                        37,752,832\n",
       "│    │    └─ReLU: 3-36                   [1, 4096]                 [1, 4096]                 --                        --                        --\n",
       "│    │    └─Dropout: 3-37                [1, 4096]                 [1, 4096]                 --                        --                        --\n",
       "│    │    └─Linear: 3-38                 [1, 4096]                 [1, 4096]                 16,781,312                --                        16,781,312\n",
       "│    │    └─ReLU: 3-39                   [1, 4096]                 [1, 4096]                 --                        --                        --\n",
       "│    │    └─Linear: 3-40                 [1, 4096]                 [1, 1000]                 4,097,000                 --                        4,097,000\n",
       "├─AlexNet: 1-3                           [1, 3, 64, 64]            [1, 1000]                 --                        --                        --\n",
       "│    └─Sequential: 2-7                   [1, 3, 64, 64]            [1, 256, 1, 1]            --                        --                        --\n",
       "│    │    └─Conv2d: 3-41                 [1, 3, 64, 64]            [1, 64, 15, 15]           23,296                    [11, 11]                  5,241,600\n",
       "│    │    └─ReLU: 3-42                   [1, 64, 15, 15]           [1, 64, 15, 15]           --                        --                        --\n",
       "│    │    └─MaxPool2d: 3-43              [1, 64, 15, 15]           [1, 64, 7, 7]             --                        3                         --\n",
       "│    │    └─Conv2d: 3-44                 [1, 64, 7, 7]             [1, 192, 7, 7]            307,392                   [5, 5]                    15,062,208\n",
       "│    │    └─ReLU: 3-45                   [1, 192, 7, 7]            [1, 192, 7, 7]            --                        --                        --\n",
       "│    │    └─MaxPool2d: 3-46              [1, 192, 7, 7]            [1, 192, 3, 3]            --                        3                         --\n",
       "│    │    └─Conv2d: 3-47                 [1, 192, 3, 3]            [1, 384, 3, 3]            663,936                   [3, 3]                    5,975,424\n",
       "│    │    └─ReLU: 3-48                   [1, 384, 3, 3]            [1, 384, 3, 3]            --                        --                        --\n",
       "│    │    └─Conv2d: 3-49                 [1, 384, 3, 3]            [1, 256, 3, 3]            884,992                   [3, 3]                    7,964,928\n",
       "│    │    └─ReLU: 3-50                   [1, 256, 3, 3]            [1, 256, 3, 3]            --                        --                        --\n",
       "│    │    └─Conv2d: 3-51                 [1, 256, 3, 3]            [1, 256, 3, 3]            590,080                   [3, 3]                    5,310,720\n",
       "│    │    └─ReLU: 3-52                   [1, 256, 3, 3]            [1, 256, 3, 3]            --                        --                        --\n",
       "│    │    └─MaxPool2d: 3-53              [1, 256, 3, 3]            [1, 256, 1, 1]            --                        3                         --\n",
       "│    └─AdaptiveAvgPool2d: 2-8            [1, 256, 1, 1]            [1, 256, 6, 6]            --                        --                        --\n",
       "│    └─Sequential: 2-9                   [1, 9216]                 [1, 1000]                 --                        --                        --\n",
       "│    │    └─Dropout: 3-54                [1, 9216]                 [1, 9216]                 --                        --                        --\n",
       "│    │    └─Linear: 3-55                 [1, 9216]                 [1, 4096]                 37,752,832                --                        37,752,832\n",
       "│    │    └─ReLU: 3-56                   [1, 4096]                 [1, 4096]                 --                        --                        --\n",
       "│    │    └─Dropout: 3-57                [1, 4096]                 [1, 4096]                 --                        --                        --\n",
       "│    │    └─Linear: 3-58                 [1, 4096]                 [1, 4096]                 16,781,312                --                        16,781,312\n",
       "│    │    └─ReLU: 3-59                   [1, 4096]                 [1, 4096]                 --                        --                        --\n",
       "│    │    └─Linear: 3-60                 [1, 4096]                 [1, 1000]                 4,097,000                 --                        4,097,000\n",
       "=====================================================================================================================================================================\n",
       "Total params: 183,302,520\n",
       "Trainable params: 183,302,520\n",
       "Non-trainable params: 0\n",
       "Total mult-adds (M): 294.56\n",
       "=====================================================================================================================================================================\n",
       "Input size (MB): 0.15\n",
       "Forward/backward pass size (MB): 0.99\n",
       "Params size (MB): 733.21\n",
       "Estimated Total Size (MB): 734.34\n",
       "====================================================================================================================================================================="
      ]
     },
     "execution_count": 21,
     "metadata": {},
     "output_type": "execute_result"
    }
   ],
   "source": [
    "import torchinfo\n",
    "torchinfo.summary(Model(), [(3, 64, 64)]*3, batch_dim=0, col_names=(\"input_size\", \"output_size\", \"num_params\", \"kernel_size\", \"mult_adds\"), verbose=0)"
   ]
  }
 ],
 "metadata": {
  "kernelspec": {
   "display_name": "Python 3 (ipykernel)",
   "language": "python",
   "name": "python3"
  },
  "language_info": {
   "codemirror_mode": {
    "name": "ipython",
    "version": 3
   },
   "file_extension": ".py",
   "mimetype": "text/x-python",
   "name": "python",
   "nbconvert_exporter": "python",
   "pygments_lexer": "ipython3",
   "version": "3.9.18"
  }
 },
 "nbformat": 4,
 "nbformat_minor": 4
}
